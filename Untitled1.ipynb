{
 "cells": [
  {
   "cell_type": "code",
   "execution_count": 11,
   "metadata": {},
   "outputs": [
    {
     "name": "stdout",
     "output_type": "stream",
     "text": [
      "inner circle\n",
      "0 z\n",
      "0 a\n",
      "0 i\n",
      "0 n\n",
      "inner circle\n",
      "1 z\n",
      "1 a\n",
      "1 i\n",
      "1 n\n",
      "inner circle\n",
      "2 z\n",
      "2 a\n",
      "2 i\n",
      "2 n\n",
      "inner circle\n",
      "3 z\n",
      "3 a\n",
      "3 i\n",
      "3 n\n",
      "inner circle\n",
      "4 z\n",
      "4 a\n",
      "4 i\n",
      "4 n\n"
     ]
    }
   ],
   "source": [
    "for a in range(5):\n",
    "    print(\"inner circle\")\n",
    "    for char in \"zain\":\n",
    "        print(a,char)"
   ]
  },
  {
   "cell_type": "code",
   "execution_count": 14,
   "metadata": {},
   "outputs": [
    {
     "name": "stdout",
     "output_type": "stream",
     "text": [
      "enter number44\n",
      "44 * 1 = 44\n",
      "44 * 2 = 88\n",
      "44 * 3 = 132\n",
      "44 * 4 = 176\n",
      "44 * 5 = 220\n",
      "44 * 6 = 264\n",
      "44 * 7 = 308\n",
      "44 * 8 = 352\n",
      "44 * 9 = 396\n",
      "44 * 10 = 440\n"
     ]
    }
   ],
   "source": [
    "tn = int(input(\"enter number\"))\n",
    "for t in range(1,11):\n",
    "    print(f\"{tn} * {t} = {tn*t}\")"
   ]
  },
  {
   "cell_type": "code",
   "execution_count": null,
   "metadata": {},
   "outputs": [],
   "source": []
  }
 ],
 "metadata": {
  "kernelspec": {
   "display_name": "Python 3",
   "language": "python",
   "name": "python3"
  },
  "language_info": {
   "codemirror_mode": {
    "name": "ipython",
    "version": 3
   },
   "file_extension": ".py",
   "mimetype": "text/x-python",
   "name": "python",
   "nbconvert_exporter": "python",
   "pygments_lexer": "ipython3",
   "version": "3.7.6"
  }
 },
 "nbformat": 4,
 "nbformat_minor": 4
}
