{
 "cells": [
  {
   "cell_type": "markdown",
   "metadata": {},
   "source": []
  },
  {
   "cell_type": "code",
   "execution_count": 16,
   "metadata": {},
   "outputs": [
    {
     "name": "stdout",
     "output_type": "stream",
     "text": [
      "2\n",
      "2\n",
      "(24, 20, 44, 11)\n"
     ]
    }
   ],
   "source": [
    "def cal(a1,a2):\n",
    "    ans = a1 + a2, a1 - a2 , a1 * a2 , a1 // a2\n",
    "    \n",
    "    return ans\n",
    "\n",
    "a1 = int(input())\n",
    "a2 = int(input())\n",
    "\n",
    "total = cal(a1,a2)\n",
    "\n",
    "\n",
    "\n",
    "print(plus)"
   ]
  },
  {
   "cell_type": "code",
   "execution_count": 20,
   "metadata": {},
   "outputs": [
    {
     "name": "stdout",
     "output_type": "stream",
     "text": [
      "input number no 1 = 22\n",
      "input number no 2 = 3\n",
      "Total calculation (25, 19, 66, 7)\n"
     ]
    }
   ],
   "source": [
    "def cal(a1,a2):\n",
    "    ans = a1 + a2, a1 - a2 , a1 * a2 , a1 // a2\n",
    "    \n",
    "    return ans\n",
    "\n",
    "a1 = int(input(\"input number no 1 = \"))\n",
    "a2 = int(input(\"input number no 2 = \"))\n",
    "\n",
    "total = cal(a1,a2)\n",
    "\n",
    "\n",
    "\n",
    "print(f\"Total calculation {total}\")"
   ]
  },
  {
   "cell_type": "code",
   "execution_count": 3,
   "metadata": {},
   "outputs": [
    {
     "name": "stdout",
     "output_type": "stream",
     "text": [
      "input number no 1 = 3\n",
      "input number no 2 = 4\n",
      "Select the operation = 9\n",
      "Operator not supported\n"
     ]
    }
   ],
   "source": [
    "def cal(a1,a2):\n",
    "    return a1 + a2\n",
    "    \n",
    "    \n",
    "def cal1(a1,a2):\n",
    "    return a1 - a2\n",
    "    \n",
    "def cal2(a1,a2):\n",
    "    return a1 *a2\n",
    "    \n",
    "    \n",
    "def cal3(a1,a2):\n",
    "    return a1 // a2\n",
    "    \n",
    "\n",
    "a1 = int(input(\"input number no 1 = \"))\n",
    "a2 = int(input(\"input number no 2 = \"))\n",
    "op = input(\"Select the operation = \")\n",
    "\n",
    "total = cal(a1,a2)\n",
    "total1 = cal1(a1,a2)\n",
    "total2 = cal2(a1,a2)\n",
    "total3 = cal3(a1,a2)\n",
    "\n",
    "if op==\"+\":\n",
    "    print(f\"Plus {total}\")\n",
    "elif op==\"-\":\n",
    "    print(f\"Sub {total1}\")\n",
    "elif op==\"/\":\n",
    "    print(f\"Div {total3}\")\n",
    "elif op==\"*\":\n",
    "    print(f\"Mul {total2}\")\n",
    "else :\n",
    "    print(\"Operator not supported\")\n",
    "    \n"
   ]
  }
 ],
 "metadata": {
  "kernelspec": {
   "display_name": "Python 3",
   "language": "python",
   "name": "python3"
  },
  "language_info": {
   "codemirror_mode": {
    "name": "ipython",
    "version": 3
   },
   "file_extension": ".py",
   "mimetype": "text/x-python",
   "name": "python",
   "nbconvert_exporter": "python",
   "pygments_lexer": "ipython3",
   "version": "3.7.6"
  }
 },
 "nbformat": 4,
 "nbformat_minor": 4
}
