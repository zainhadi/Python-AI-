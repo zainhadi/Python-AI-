{
 "cells": [
  {
   "cell_type": "code",
   "execution_count": 1,
   "metadata": {},
   "outputs": [],
   "source": [
    "def add():\n",
    "    print(99+77)\n"
   ]
  },
  {
   "cell_type": "code",
   "execution_count": 2,
   "metadata": {},
   "outputs": [
    {
     "name": "stdout",
     "output_type": "stream",
     "text": [
      "176\n"
     ]
    }
   ],
   "source": [
    "add()"
   ]
  },
  {
   "cell_type": "code",
   "execution_count": 21,
   "metadata": {},
   "outputs": [],
   "source": [
    "def add(n1,n2):\n",
    "    print(f'Answer is {n1 + n2}')"
   ]
  },
  {
   "cell_type": "code",
   "execution_count": 22,
   "metadata": {},
   "outputs": [
    {
     "name": "stdout",
     "output_type": "stream",
     "text": [
      "Number2 = 3\n",
      "Number1 = 3\n",
      "Answer is 6\n"
     ]
    }
   ],
   "source": [
    "n1 = int(input(\"Number2 = \"))\n",
    "n2 = int(input(\"Number1 = \"))\n",
    "add(n1,n2)"
   ]
  },
  {
   "cell_type": "code",
   "execution_count": 23,
   "metadata": {},
   "outputs": [],
   "source": [
    "def sub(fname,mname,lname):\n",
    "    print(fname,mname,lname)\n"
   ]
  },
  {
   "cell_type": "code",
   "execution_count": 26,
   "metadata": {},
   "outputs": [
    {
     "name": "stdout",
     "output_type": "stream",
     "text": [
      "zain  \n"
     ]
    }
   ],
   "source": [
    "sub(lname=\"\",mname=\"\",fname=\"zain\")\n"
   ]
  },
  {
   "cell_type": "code",
   "execution_count": null,
   "metadata": {},
   "outputs": [],
   "source": [
    "def pizza(size,flavor,quantity,*toppings):\n",
    "    print(f'Your order of {size} inch {flavor} pizza quantity {quantity} and topping {toppings} has been placed' )\n",
    "    \n",
    "size = int(input(\"Pizza size= \"))\n",
    "flavor = input(\"flavor = \")\n",
    "quantity = int(input(\"quantity = \"))\n",
    "toppings = input(\"toppings = \")\n",
    "\n",
    "pizza(size,flavor,quantity,toppings)\n",
    "    "
   ]
  },
  {
   "cell_type": "code",
   "execution_count": null,
   "metadata": {},
   "outputs": [],
   "source": [
    "del cal(a1,a2):\n",
    "    ans = a1 + a2\n",
    "    ans2 = a1 - a2\n",
    "    ans3 = a1 * a2\n",
    "    ans4 = a1 // a2\n",
    "    \n",
    "    return ans,ans2,ans3,ans4\n",
    "\n",
    "a1 = int(input())\n",
    "a2 = int(input())\n",
    "\n",
    "plus = ans\n",
    "sub = ans1\n",
    "div = ans4\n",
    "mul = ans3\n",
    "\n",
    "cal(a1,a2)\n",
    "print(plus, sub , div, mul)\n",
    "    "
   ]
  },
  {
   "cell_type": "code",
   "execution_count": null,
   "metadata": {},
   "outputs": [],
   "source": []
  }
 ],
 "metadata": {
  "kernelspec": {
   "display_name": "Python 3",
   "language": "python",
   "name": "python3"
  },
  "language_info": {
   "codemirror_mode": {
    "name": "ipython",
    "version": 3
   },
   "file_extension": ".py",
   "mimetype": "text/x-python",
   "name": "python",
   "nbconvert_exporter": "python",
   "pygments_lexer": "ipython3",
   "version": "3.7.6"
  }
 },
 "nbformat": 4,
 "nbformat_minor": 4
}
