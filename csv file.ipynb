{
 "cells": [
  {
   "cell_type": "code",
   "execution_count": 1,
   "metadata": {},
   "outputs": [],
   "source": [
    "import csv "
   ]
  },
  {
   "cell_type": "code",
   "execution_count": 4,
   "metadata": {},
   "outputs": [
    {
     "name": "stdout",
     "output_type": "stream",
     "text": [
      "['year', ' name', '  gender']\n",
      "['1998', ' zain ', ' male']\n",
      "['1999', ' shez', ' male']\n",
      "['1998', ' mishi', ' female']\n"
     ]
    }
   ],
   "source": [
    "with open(\"abc.csv\") as file:\n",
    "    contents = csv.reader (file)\n",
    "    for content in contents:\n",
    "        print(content)"
   ]
  },
  {
   "cell_type": "code",
   "execution_count": 7,
   "metadata": {},
   "outputs": [],
   "source": [
    "with open(\"xyz.csv\",\"w\",newline=\"\") as file:\n",
    "    fileWriter = csv.writer(file)\n",
    "    fileWriter.writerow([\"2019\",\"CW2019\",\"PAK\"])"
   ]
  },
  {
   "cell_type": "code",
   "execution_count": 8,
   "metadata": {},
   "outputs": [],
   "source": [
    "with open(\"xyz.csv\",\"w\",newline=\"\") as file:\n",
    "    fileWriter = csv.writer(file)\n",
    "    fileWriter.writerow([\"2019\",\"CW2020\",\"PAK\"])"
   ]
  },
  {
   "cell_type": "code",
   "execution_count": null,
   "metadata": {},
   "outputs": [],
   "source": []
  }
 ],
 "metadata": {
  "kernelspec": {
   "display_name": "Python 3",
   "language": "python",
   "name": "python3"
  },
  "language_info": {
   "codemirror_mode": {
    "name": "ipython",
    "version": 3
   },
   "file_extension": ".py",
   "mimetype": "text/x-python",
   "name": "python",
   "nbconvert_exporter": "python",
   "pygments_lexer": "ipython3",
   "version": "3.7.6"
  }
 },
 "nbformat": 4,
 "nbformat_minor": 4
}
