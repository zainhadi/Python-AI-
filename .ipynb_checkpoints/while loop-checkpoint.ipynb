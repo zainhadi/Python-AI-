{
 "cells": [
  {
   "cell_type": "code",
   "execution_count": 6,
   "metadata": {},
   "outputs": [
    {
     "name": "stdout",
     "output_type": "stream",
     "text": [
      "3\n",
      "3  WeHERE\n",
      "4  WeHERE\n",
      "5  WeHERE\n",
      "6  WeHERE\n",
      "7  WeHERE\n",
      "8  WeHERE\n",
      "9  WeHERE\n"
     ]
    }
   ],
   "source": [
    "a = int(input())\n",
    "while a<10:\n",
    "    print(a,\" WeHERE\")\n",
    "    a +=1"
   ]
  },
  {
   "cell_type": "code",
   "execution_count": null,
   "metadata": {},
   "outputs": [],
   "source": [
    "a = 0\n",
    "while a<10:\n",
    "    ui = input(\"enter fav food \")\n",
    "    a +=1"
   ]
  }
 ],
 "metadata": {
  "kernelspec": {
   "display_name": "Python 3",
   "language": "python",
   "name": "python3"
  },
  "language_info": {
   "codemirror_mode": {
    "name": "ipython",
    "version": 3
   },
   "file_extension": ".py",
   "mimetype": "text/x-python",
   "name": "python",
   "nbconvert_exporter": "python",
   "pygments_lexer": "ipython3",
   "version": "3.7.6"
  }
 },
 "nbformat": 4,
 "nbformat_minor": 4
}
