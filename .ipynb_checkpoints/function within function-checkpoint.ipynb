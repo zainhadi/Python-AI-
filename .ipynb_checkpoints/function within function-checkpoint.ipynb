{
 "cells": [
  {
   "cell_type": "code",
   "execution_count": 2,
   "metadata": {},
   "outputs": [
    {
     "name": "stdout",
     "output_type": "stream",
     "text": [
      "Sales input250\n",
      "Your gross salary is 115000\n"
     ]
    }
   ],
   "source": [
    "def comcal(salc):\n",
    "    if salc>100:\n",
    "        return salc*100\n",
    "    elif  salc>50:\n",
    "        return salc*50\n",
    "    elif salc>30:\n",
    "        return salc*30\n",
    "    else :\n",
    "        return 0 \n",
    "def salcal(basic,salc):\n",
    "    grosssalary = basic + comcal(salc)\n",
    "    print(f\"Your gross salary is {grosssalary}\")\n",
    "    \n",
    "salc = int(input(\"Sales input\"))\n",
    "salcal(90000,salc)\n",
    "    \n",
    "    "
   ]
  },
  {
   "cell_type": "code",
   "execution_count": null,
   "metadata": {},
   "outputs": [],
   "source": []
  },
  {
   "cell_type": "code",
   "execution_count": null,
   "metadata": {},
   "outputs": [],
   "source": []
  }
 ],
 "metadata": {
  "kernelspec": {
   "display_name": "Python 3",
   "language": "python",
   "name": "python3"
  },
  "language_info": {
   "codemirror_mode": {
    "name": "ipython",
    "version": 3
   },
   "file_extension": ".py",
   "mimetype": "text/x-python",
   "name": "python",
   "nbconvert_exporter": "python",
   "pygments_lexer": "ipython3",
   "version": "3.7.6"
  }
 },
 "nbformat": 4,
 "nbformat_minor": 4
}
